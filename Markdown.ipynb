{
 "cells": [
  {
   "cell_type": "markdown",
   "id": "9be5f5bc",
   "metadata": {},
   "source": [
    "# 1. Introducción\n",
    "\n",
    "- **Markdown** es una herramienta de conversión de texto a [HTML][] para escritores web. \n",
    "- Markdown permite escribir utilizando un formato de [texto plano][] fácil de leer y escribir, y luego convertirlo en ``XHTML (o HTML)`` estructuralmente válido.\n",
    "- Por lo tanto, **\"Markdown\"** es dos cosas: \n",
    "\n",
    "    * 1) una sintaxis de formato de texto plano; y \n",
    "    * 2) una herramienta de software, escrita en [Perl][], **que convierte el formato de texto plano en HTML**. \n",
    "[HTML]: https://developer.mozilla.org/en-US/docs/Web/HTML    \n",
    "[Perl]: https://www.perl.org/\n",
    "[texto plano]: https://en.wikipedia.org/wiki/Plain_text\n",
    "    \n",
    "    \n",
    "# 2. Objetivo \n",
    "\n",
    "- Markdown pretende ser tan fácil de leer y de escribir como sea posible.\n",
    "- El diseño de la sintaxis de formato de Markdown es ser lo más legible posible. \n",
    "\n",
    "\n",
    "# 3. ¿Cuál es la idea?\n",
    "\n",
    "La idea es que un documento con formato ``Markdown`` sea publicable tal cual, como texto plano, sin que parezca que ha sido marcado con etiquetas o instrucciones de formato. Aunque la sintaxis de ``Markdown`` se ha visto influenciada por varios filtros existentes de conversión de texto a HTML, la mayor fuente de inspiración para la sintaxis de ``Markdown`` es el formato del correo electrónico en texto plano.\n",
    "\n",
    "La mejor manera de hacerse una idea de la sintaxis de Markdown es simplemente mirar un documento con formato Markdown. Por ejemplo, este Notebook.\n",
    "\n",
    "# 4. Licencia\n",
    "Markdown es software libre, disponible bajo una licencia de código abierto tipo [BSD][]. \n",
    "\n",
    "[BSD]: https://docs.freebsd.org/es/articles/explaining-bsd/\n",
    "\n",
    "# 5. ¿Cómo funciona la sintaxis de Markdown?\n",
    "\n",
    "* La sintaxis de **Markdown** *se compone enteramente de caracteres de puntuación*, que se han elegido cuidadosamente para que se parezcan a lo que significan. Por ejemplo, los asteriscos alrededor de una palabra tienen el aspecto de \\*énfasis\\*. \n",
    "\n",
    "* La sintaxis de **Markdown** está pensada para un propósito: \"ser utilizada como formato para escribir para la web\".\n",
    "\n",
    "* **Markdown** no es un sustituto de ``HTML``, ni siquiera se acerca a él. Su sintaxis es muy reducida y sólo corresponde a un subconjunto muy pequeño de etiquetas HTML. La idea no es crear una sintaxis que facilite la inserción de etiquetas HTML. Según las propias palabras del creador de **Markdown** se entiende que \n",
    "\n",
    ">\"*...las etiquetas HTML ya son fáciles de insertar. La idea de Markdown es facilitar la lectura, la escritura y la edición de la prosa. HTML es un formato de publicación; Markdown es un formato de escritura. Por lo tanto, la sintaxis de formato de Markdown sólo aborda cuestiones que pueden transmitirse en texto plano.*\" (JOHN GRUBER)\n",
    "    \n",
    "##### Observación:\n",
    "\n",
    "1. *Para cualquier marcado que no esté cubierto por la sintaxis de Markdown, simplemente se utiliza el propio HTML. No es necesario anteponerlo o delimitarlo para indicar que se está pasando de Markdown a HTML; basta con utilizar las etiquetas.*\n",
    "\n",
    "2. *Las únicas restricciones son que los elementos HTML a nivel de bloque -por ejemplo, ``<div>``, ``<table>``, ``<pre>``, ``<p>``, etc.- deben estar separados del contenido circundante por líneas en blanco, y las etiquetas de inicio y final del bloque no deben estar sangradas con tabulaciones o espacios. Markdown es lo suficientemente inteligente como para no añadir etiquetas ``<p>`` adicionales (no deseadas) alrededor de las etiquetas HTML a nivel de bloque.*\n",
    "\n",
    "## 5.1. ELEMENTOS DEL BLOQUE\n",
    "\n",
    "### A. PÁRRAFOS Y SALTOS DE LÍNEA\n",
    "\n",
    "Un párrafo es simplemente una o más líneas de texto consecutivas, separadas por una o más líneas en blanco."
   ]
  },
  {
   "cell_type": "markdown",
   "id": "e457384c",
   "metadata": {},
   "source": [
    "In computing, plain text is a loose term for data (e.g. file contents) that represent only characters of readable material but not its graphical representation nor other objects (floating-point numbers, images, etc.). \n",
    "\n",
    "It may also include a limited number of \"whitespace\" characters that affect simple arrangement of text, such as spaces, line breaks, or tabulation characters (although tab characters can \"mean\" many different things, so are hardly \"plain\"). \n",
    "\n",
    "Plain text is different from formatted text, where style information is included; from structured text, where structural parts of the document such as paragraphs, sections, and the like are identified; and from binary files in which some portions must be interpreted as binary objects (encoded integers, real numbers, images, etc.)."
   ]
  },
  {
   "cell_type": "markdown",
   "id": "3ded77a4",
   "metadata": {},
   "source": [
    "### B. HEADERS (Cabeceras)\n",
    "Markdown admite dos estilos de encabezados, ``Setext`` y ``atx``.\n",
    "\n",
    "Los encabezados de estilo ``Setext`` se \"subrayan\" utilizando signos de igualdad (para los encabezados de primer nivel) y guiones (para los de segundo nivel). Por ejemplo:"
   ]
  },
  {
   "cell_type": "markdown",
   "id": "b6b39fc2",
   "metadata": {},
   "source": [
    "Esto es un H1\n",
    "==========\n",
    "\n",
    "Esto es un H2\n",
    "------------------"
   ]
  },
  {
   "cell_type": "markdown",
   "id": "02840d7f",
   "metadata": {},
   "source": [
    "Hola\n",
    "=\n",
    "Hola\n",
    "-"
   ]
  },
  {
   "cell_type": "markdown",
   "id": "4f038333",
   "metadata": {},
   "source": [
    "Las cabeceras de estilo ``Atx`` utilizan de 1 a 6 caracteres hash al principio de la línea, que corresponden a los niveles de cabecera 1-6. Por ejemplo:"
   ]
  },
  {
   "cell_type": "markdown",
   "id": "1e620d71",
   "metadata": {},
   "source": [
    "# Esto es H1\n",
    "comentario\n",
    "\n",
    "## Esto es H2\n",
    "\n",
    "comentario\n",
    "\n",
    "### Esto es H3\n",
    "\n",
    "comentario\n",
    "\n",
    "#### Esto es H4\n",
    "\n",
    "comentario\n",
    "\n",
    "##### Esto es H5\n",
    "\n",
    "comentario\n",
    "###### Esto es H6\n",
    "comentario"
   ]
  },
  {
   "cell_type": "markdown",
   "id": "00b05e57",
   "metadata": {},
   "source": [
    "Tambien puede cerrar estas cabeceras, para dar un toque estético"
   ]
  },
  {
   "cell_type": "markdown",
   "id": "44cdb7fd",
   "metadata": {},
   "source": [
    "# Esto es H1 ############################\n",
    "\n",
    "## Esto es H2 #\n",
    "\n",
    "### Esto es H3 #################\n",
    "\n",
    "#### Esto es H4 ####\n",
    "\n",
    "##### Esto es H5  ############################################################################\n",
    "\n",
    "###### Esto es H6  #"
   ]
  },
  {
   "cell_type": "markdown",
   "id": "9cde1868",
   "metadata": {},
   "source": [
    "### C. BLOCKQUOTES   (Citas en bloque)\n",
    "**Markdown** utiliza caracteres de estilo de correo electrónico ``>`` para las citas en bloque. \n",
    "\n",
    "Si está familiarizado con las citas de pasajes de texto en un mensaje de correo electrónico, entonces sabe cómo crear una cita en bloque en Markdown. Se ve mejor si se envuelve el texto y se pone un ``>`` antes de cada línea:"
   ]
  },
  {
   "cell_type": "markdown",
   "id": "cbef0745",
   "metadata": {},
   "source": [
    "> Esta es una cita en bloque con dos párrafos. Lorem ipsum dolor sit amet,\n",
    "> consectetuer adipiscing elit. Aliquam hendrerit mi posuere lectus.\n",
    "> Vestibulum enim wisi, viverra nec, fringilla in, laoreet vitae, risus.\n",
    "> \n",
    "> Donec sit amet nisl. Aliquam semper ipsum sit amet velit. Suspendisse\n",
    "> id sem consectetuer libero luctus adipiscing."
   ]
  },
  {
   "cell_type": "markdown",
   "id": "11a26597",
   "metadata": {},
   "source": [
    "**Markdown** le permite ser perezoso y sólo poner el ``>`` antes de la primera línea de un párrafo con un contenido duro:"
   ]
  },
  {
   "cell_type": "markdown",
   "id": "b92b6ec3",
   "metadata": {},
   "source": [
    "> Esta es una cita en bloque con dos párrafos. Lorem ipsum dolor sit amet,\n",
    "consectetuer adipiscing elit. Aliquam hendrerit mi posuere lectus. \n",
    "Vestibulum enim wisi, viverra nec, fringilla in, laoreet vitae, risus.\n",
    "\n",
    "> Donec sit amet nisl. Aliquam semper ipsum sit amet velit. Suspendisse\n",
    "id sem consectetuer libero luctus adipiscing."
   ]
  },
  {
   "cell_type": "markdown",
   "id": "2731a0b8",
   "metadata": {},
   "source": [
    "Las citas de bloque pueden anidarse (es decir, una cita de bloque dentro de otra cita de bloque) añadiendo niveles adicionales de ``>``:"
   ]
  },
  {
   "cell_type": "markdown",
   "id": "c222d72d",
   "metadata": {},
   "source": [
    "> Este es el primer nivel\n",
    ">\n",
    "> > Esto es un segundo nivel anidado\n",
    "> >\n",
    "> > > Esto es un tercer nivel anidado\n",
    "> >\n",
    "> > Vuelve al segundo nivel.\n",
    ">\n",
    "> Vuelve al primer nivel."
   ]
  },
  {
   "cell_type": "markdown",
   "id": "05902e73",
   "metadata": {},
   "source": [
    "1. jkkkkkkk\n",
    "    > dddd\n",
    "    \n",
    "    a.  ddddd\n",
    "    >> iii"
   ]
  },
  {
   "cell_type": "markdown",
   "id": "5ad29c48",
   "metadata": {},
   "source": [
    "Las citas de bloque pueden contener otros elementos de **Markdown**, como cabeceras, listas y bloques de código:"
   ]
  },
  {
   "cell_type": "markdown",
   "id": "8fba0173",
   "metadata": {},
   "source": [
    "> ## Esto es una cabecera (H2).\n",
    "> \n",
    "> 1. Este es el primer elemento de la lista.\n",
    "> 2.   Este es el segundo elemento de la lista.\n",
    "> \n",
    "> Este es un código de ejemplo:\n",
    "> ~~~c++ \n",
    ">   return shell_exec(\"echo $input | $markdown_script\");\n",
    "> ~~~\n"
   ]
  },
  {
   "cell_type": "markdown",
   "id": "a4c040d1",
   "metadata": {},
   "source": [
    "### D. LISTS (Listas)\n",
    "**Markdown** admite listas ordenadas (numeradas) y desordenadas (con viñetas).\n",
    "\n",
    "Las listas desordenadas utilizan asteriscos, + (plus) y guiones -intercambiables- como marcadores de lista:"
   ]
  },
  {
   "cell_type": "markdown",
   "id": "eccc482f",
   "metadata": {},
   "source": [
    "hola\n",
    "*   Red\n",
    "*   Green\n",
    "*   Blue"
   ]
  },
  {
   "cell_type": "markdown",
   "id": "3e452019",
   "metadata": {},
   "source": [
    "<ul>\n",
    "<li>Red</li>\n",
    "<li>Green</li>\n",
    "<li>Blue</li>\n",
    "</ul>"
   ]
  },
  {
   "cell_type": "markdown",
   "id": "e2aed1c3",
   "metadata": {},
   "source": [
    "son equivalentes"
   ]
  },
  {
   "cell_type": "markdown",
   "id": "b7178791",
   "metadata": {},
   "source": [
    "+   Red\n",
    "+   Green\n",
    "+   Blue"
   ]
  },
  {
   "cell_type": "markdown",
   "id": "ef117ce7",
   "metadata": {},
   "source": [
    "y "
   ]
  },
  {
   "cell_type": "markdown",
   "id": "d67cc7f4",
   "metadata": {},
   "source": [
    "-   Red\n",
    "-   Green\n",
    "-   Blue"
   ]
  },
  {
   "cell_type": "markdown",
   "id": "b76c1b93",
   "metadata": {},
   "source": [
    "Es importante tener en cuenta que los números reales que se utilizan para marcar la lista no tienen ningún efecto en la salida **HTML** que produce **Markdown**. El HTML que Markdown produce a partir de la lista anterior es:"
   ]
  },
  {
   "cell_type": "markdown",
   "id": "99cb229c",
   "metadata": {},
   "source": [
    "<ol>\n",
    "<li>Bird</li>\n",
    "<li>McHale</li>\n",
    "<li>Parish</li>\n",
    "</ol>"
   ]
  },
  {
   "cell_type": "markdown",
   "id": "f7e687e3",
   "metadata": {},
   "source": [
    "Si en lugar de eso escribieras la lista en **Markdown** así"
   ]
  },
  {
   "cell_type": "markdown",
   "id": "b98200f9",
   "metadata": {},
   "source": [
    "1.  Bird\n",
    "1.  McHale\n",
    "1.  Parish"
   ]
  },
  {
   "cell_type": "markdown",
   "id": "dee97a27",
   "metadata": {},
   "source": [
    "o incluso"
   ]
  },
  {
   "cell_type": "markdown",
   "id": "25550dec",
   "metadata": {},
   "source": [
    "5. Bird\n",
    "1. McHale\n",
    "8. Parish"
   ]
  },
  {
   "cell_type": "markdown",
   "id": "aa6aa5a8",
   "metadata": {},
   "source": [
    "obtendría exactamente el mismo resultado **HTML**. La cuestión es que, si quieres, puedes utilizar números ordinales en tus listas ordenadas de Markdown, de modo que los números en tu fuente coincidan con los números en tu HTML publicado. **Pero si quieres ser perezoso, no tienes que hacerlo.**\n",
    "\n",
    "Sin embargo, si utiliza la numeración perezosa de las listas, debe comenzar la lista con el número 1. En el futuro, **Markdown** podría permitir que las listas ordenadas comiencen con un número arbitrario.\n",
    "\n",
    "Los marcadores de lista suelen comenzar en el margen izquierdo, pero pueden tener una sangría de hasta tres espacios. Los marcadores de lista deben ir seguidos de uno o más espacios o de un tabulador.\n",
    "\n",
    "Para que las listas tengan un buen aspecto, puede envolver los elementos con sangrías colgantes:"
   ]
  },
  {
   "cell_type": "markdown",
   "id": "af18c6dd",
   "metadata": {},
   "source": [
    "*   Lorem ipsum dolor sit amet, consectetuer adipiscing elit.\n",
    "    Aliquam hendrerit mi posuere lectus. Vestibulum enim wisi,\n",
    "    viverra nec, fringilla in, laoreet vitae, risus.\n",
    "*   Donec sit amet nisl. Aliquam semper ipsum sit amet velit.\n",
    "    Suspendisse id sem consectetuer libero luctus adipiscing."
   ]
  },
  {
   "cell_type": "markdown",
   "id": "87053990",
   "metadata": {},
   "source": [
    "Pero si quieres ser perezoso, no tienes que hacerlo:"
   ]
  },
  {
   "cell_type": "markdown",
   "id": "7dd5fd4b",
   "metadata": {},
   "source": [
    "*   Lorem ipsum dolor sit amet, consectetuer adipiscing elit.\n",
    "Aliquam hendrerit mi posuere lectus. Vestibulum enim wisi,\n",
    "viverra nec, fringilla in, laoreet vitae, risus.\n",
    "\n",
    "*   Donec sit amet nisl. Aliquam semper ipsum sit amet velit.\n",
    "Suspendisse id sem consectetuer libero luctus adipiscing."
   ]
  },
  {
   "cell_type": "markdown",
   "id": "3260010d",
   "metadata": {},
   "source": [
    "Si los elementos de la lista están separados por líneas en blanco, **Markdown** envolverá los elementos en etiquetas ``<p>`` en la salida **HTML**. Por ejemplo, esta entrada:"
   ]
  },
  {
   "cell_type": "markdown",
   "id": "f434da76",
   "metadata": {},
   "source": [
    "* Pájaro\n",
    "* Magia"
   ]
  },
  {
   "cell_type": "markdown",
   "id": "e88a7ec8",
   "metadata": {},
   "source": [
    "se convertirá en:"
   ]
  },
  {
   "cell_type": "markdown",
   "id": "3a4effe5",
   "metadata": {},
   "source": [
    "<ul>\n",
    "<li>Pájaro</li>\n",
    "<li>Magia</li>\n",
    "</ul>"
   ]
  },
  {
   "cell_type": "markdown",
   "id": "617094b4",
   "metadata": {},
   "source": [
    "Pero esto:"
   ]
  },
  {
   "cell_type": "markdown",
   "id": "dc49e7ee",
   "metadata": {},
   "source": [
    "* Pájaro\n",
    "\n",
    "\n",
    "* Magia"
   ]
  },
  {
   "cell_type": "markdown",
   "id": "efe46750",
   "metadata": {},
   "source": [
    "se convertirá en:"
   ]
  },
  {
   "cell_type": "markdown",
   "id": "446b0a38",
   "metadata": {},
   "source": [
    "<ul>\n",
    "<li><p> Pájaro </p></li>\n",
    " <p>  </p>   \n",
    "<li><p> Magia </p></li>\n",
    "</ul>"
   ]
  },
  {
   "cell_type": "markdown",
   "id": "6117ad1c",
   "metadata": {},
   "source": [
    "Los elementos de la lista pueden constar de varios párrafos. Cada párrafo subsiguiente de un elemento de lista debe tener una sangría de 4 espacios o un tabulador:"
   ]
  },
  {
   "cell_type": "markdown",
   "id": "fff84a2a",
   "metadata": {},
   "source": [
    "1.  Este es un elemento de lista con dos párrafos. Lorem ipsum dolor\n",
    "    sit amet, consectetuer adipiscing elit. Aliquam hendrerit\n",
    "    mi posuere lectus.\n",
    "\n",
    "    Vestibulum enim wisi, viverra nec, fringilla in, laoreet\n",
    "    vitae, risus. Donec sit amet nisl. Aliquam semper ipsum\n",
    "    sit amet velit.\n",
    "\n",
    "2.  Suspendisse id sem consectetuer libero luctus adipiscing."
   ]
  },
  {
   "cell_type": "markdown",
   "id": "2fe41310",
   "metadata": {},
   "source": [
    "Queda bien si **indentas** cada línea de los párrafos siguientes, pero también en este caso, Markdown te permitirá ser perezoso:"
   ]
  },
  {
   "cell_type": "markdown",
   "id": "c198bc61",
   "metadata": {},
   "source": [
    "* Este es un elemento de la lista con dos párrafos.\n",
    "\n",
    "    Este es el segundo párrafo de la lista. Sólo es necesario\n",
    "Sólo se requiere la sangría de la primera línea. Lorem ipsum dolor\n",
    "sit amet, consectetuer adipiscing elit.\n",
    "\n",
    "* Otro elemento de la misma lista."
   ]
  },
  {
   "cell_type": "markdown",
   "id": "f548032b",
   "metadata": {},
   "source": [
    "Para colocar una cita en bloque dentro de un elemento de la lista, los delimitadores de la cita en bloque deben estar sangrados:"
   ]
  },
  {
   "cell_type": "markdown",
   "id": "c942fbf6",
   "metadata": {},
   "source": [
    "* Un elemento de la lista con una cita en bloque:\n",
    "\n",
    "    > Este es un blockquote\n",
    "    > dentro de un elemento de la lista."
   ]
  },
  {
   "cell_type": "markdown",
   "id": "21279178",
   "metadata": {},
   "source": [
    "Para poner un bloque de código dentro de un elemento de la lista, el bloque de código debe tener dos sangrías: 8 espacios o dos tabulaciones:"
   ]
  },
  {
   "cell_type": "markdown",
   "id": "c019c6c5",
   "metadata": {},
   "source": [
    "* Un elemento de la lista con un bloque de código:\n",
    "\n",
    "        <código va aquí>"
   ]
  },
  {
   "cell_type": "markdown",
   "id": "8b00c991",
   "metadata": {},
   "source": [
    "Cabe destacar que es posible activar una lista ordenada por accidente, escribiendo algo así"
   ]
  },
  {
   "cell_type": "markdown",
   "id": "974ef71c",
   "metadata": {},
   "source": [
    "1986. Qué gran temporada."
   ]
  },
  {
   "cell_type": "markdown",
   "id": "1ebc0432",
   "metadata": {},
   "source": [
    "Es decir, una secuencia número-punto-espacio al principio de una línea. Para evitar esto, puede escribir el punto con barra invertida:\n"
   ]
  },
  {
   "cell_type": "markdown",
   "id": "62f90536",
   "metadata": {},
   "source": [
    "1986\\. Qué gran temporada."
   ]
  },
  {
   "cell_type": "markdown",
   "id": "82128269",
   "metadata": {},
   "source": [
    "hola\n",
    "    \n",
    "* ddd\n",
    "        \n",
    "    * sd\n",
    "        \n",
    "        * ss"
   ]
  },
  {
   "cell_type": "markdown",
   "id": "5b457b1a",
   "metadata": {},
   "source": [
    "### E. CODE BLOCKS (Bloques de código)\n",
    "Los bloques de código preformateados se utilizan para escribir sobre el código fuente de programación o de marcado. \n",
    "\n",
    "En lugar de formar párrafos normales, las líneas de un bloque de código se interpretan literalmente. **Markdown** envuelve un bloque de código en las etiquetas ``<pre>`` y ``<code>``.\n",
    "\n",
    "##### Observación:\n",
    "\n",
    "*También puedes escribir código, con un mejor acabado, lo único que tienes que hacer es encerrar dicho párrafo entre dos líneas formadas por tres ``~`` virgulillas.*\n",
    "\n",
    "Para producir un bloque de código en **Markdown**, basta con sangrar cada línea del bloque con al menos 4 espacios o 1 tabulador. Por ejemplo, dada esta entrada:"
   ]
  },
  {
   "cell_type": "markdown",
   "id": "c4b9e661",
   "metadata": {},
   "source": [
    "Esto es un párrafo normal:\n",
    "\n",
    "    Esto es un bloque de código."
   ]
  },
  {
   "cell_type": "markdown",
   "id": "9535c297",
   "metadata": {},
   "source": [
    "Markdown generará:"
   ]
  },
  {
   "cell_type": "markdown",
   "id": "d9f2fdba",
   "metadata": {},
   "source": [
    "<p>Este es un párrafo normal:</p>\n",
    "\n",
    "<pre><code>Este es un bloque de código.\n",
    "</code></pre>"
   ]
  },
  {
   "cell_type": "markdown",
   "id": "1d240e20",
   "metadata": {},
   "source": [
    "más ejemplos"
   ]
  },
  {
   "cell_type": "markdown",
   "id": "4d2333ed",
   "metadata": {},
   "source": [
    "Este es un ejemplo de Python:\n",
    "\n",
    "    def markdown(string):\n",
    "        print(string)\n",
    "        \n",
    "        \n",
    "~~~python\n",
    "def markdown(string):\n",
    "        print(string)\n",
    "~~~"
   ]
  },
  {
   "cell_type": "markdown",
   "id": "e088968f",
   "metadata": {},
   "source": [
    "Este es un ejemplo de C++:\n",
    "\n",
    "    //Código Fuente: Calcula cuantos números pares hay entre dos ingresados\n",
    "    #include<iostream>\n",
    "    using namespace std;\n",
    "    int main()\n",
    "    {\n",
    "        int a=0,b=0,c=0;\n",
    "        cout<<\"ingrese un numero: \";cin>>a;\n",
    "        cout<<\"ingrese otro numero: \";cin>>b;\n",
    "        while(a<=b)\n",
    "        {\n",
    "            if(a%2!=0)\n",
    "            c=c+1; a=a+1;       \n",
    "        }\n",
    "        cout<<c<<endl;\n",
    "        cin.ignore(); return 0;\n",
    "    }\n",
    "    \n",
    "~~~C++\n",
    "//Código Fuente: Calcula cuantos números pares hay entre dos ingresados\n",
    "    #include<iostream>\n",
    "    using namespace std;\n",
    "    int main()\n",
    "    {\n",
    "        int a=0,b=0,c=0;\n",
    "        cout<<\"ingrese un numero: \";cin>>a;\n",
    "        cout<<\"ingrese otro numero: \";cin>>b;\n",
    "        while(a<=b)\n",
    "        {\n",
    "            if(a%2!=0)\n",
    "            c=c+1; a=a+1;       \n",
    "        }\n",
    "        cout<<c<<endl;\n",
    "        cin.ignore(); return 0;\n",
    "    }\n",
    "~~~"
   ]
  },
  {
   "cell_type": "markdown",
   "id": "33d79089",
   "metadata": {},
   "source": [
    "Este es un ejemplo de R:\n",
    "    \n",
    "    f<-function  (a){  return(a + 1) }\n",
    "    \n",
    "~~~r\n",
    "f<-function  (a){  return(a + 1) }\n",
    "~~~"
   ]
  },
  {
   "cell_type": "markdown",
   "id": "835df5ec",
   "metadata": {},
   "source": [
    "Este es un ejemplo de Java:\n",
    "\n",
    "    public class Mi_Clase_1\n",
    "    {\n",
    "        public static void main(String args[])\n",
    "        {\n",
    "            for(int i = 0; i <= 12; i++)\n",
    "            {\n",
    "                System.out.print(\"12 * \"+ i + \" = \" + 12 * i + \"\\n\");\n",
    "            }\n",
    "        }\n",
    "    }\n",
    "    \n",
    "~~~java\n",
    "public class Mi_Clase_1\n",
    "    {\n",
    "        public static void main(String args[])\n",
    "        {\n",
    "            for(int i = 0; i <= 12; i++)\n",
    "            {\n",
    "                System.out.print(\"12 * \"+ i + \" = \" + 12 * i + \"\\n\");\n",
    "            }\n",
    "        }\n",
    "    }\n",
    "~~~"
   ]
  },
  {
   "cell_type": "markdown",
   "id": "f5e769a2",
   "metadata": {},
   "source": [
    "Dentro de un bloque de código, los ampersands (``&``) y los paréntesis angulares (``<`` y ``>``) se convierten automáticamente en entidades **HTML**. Esto hace que sea muy fácil incluir un ejemplo de código fuente **HTML utilizando Markdown** - sólo tienes que pegarlo y sangrarlo, y **Markdown** se encargará de codificar los *ampersands* y los *paréntesis angulares*. Por ejemplo, esto:"
   ]
  },
  {
   "cell_type": "markdown",
   "id": "76c9c708",
   "metadata": {},
   "source": [
    "<div class=\"footer\">\n",
    "        &copy; 2004 Foo Corporation\n",
    "    </div>"
   ]
  },
  {
   "cell_type": "markdown",
   "id": "e360702f",
   "metadata": {},
   "source": [
    "se convertirá en:"
   ]
  },
  {
   "cell_type": "markdown",
   "id": "1058bd1a",
   "metadata": {},
   "source": [
    "<pre><code>&lt;div class=\"footer\"&gt;\n",
    "    &amp;copy; 2004 Foo Corporation\n",
    "&lt;/div&gt;\n",
    "</code></pre>"
   ]
  },
  {
   "cell_type": "markdown",
   "id": "a97535ac",
   "metadata": {},
   "source": [
    "La sintaxis regular de **Markdown** no se procesa dentro de los bloques de código. \n",
    "\n",
    "Por ejemplo, los asteriscos son sólo asteriscos literales dentro de un bloque de código. Esto significa que también es fácil utilizar Markdown para escribir sobre la propia sintaxis de Markdown."
   ]
  },
  {
   "cell_type": "markdown",
   "id": "84f61365",
   "metadata": {},
   "source": [
    "### F. Reglas Horizontales\n",
    "Puede producir una etiqueta de regla horizontal (<hr />) colocando tres o más guiones, asteriscos o guiones bajos en una línea por sí mismos. Si lo desea, puede utilizar espacios entre los guiones o asteriscos. \n",
    "\n",
    "Cada una de las siguientes líneas producirá una regla horizontal:"
   ]
  },
  {
   "cell_type": "markdown",
   "id": "15246164",
   "metadata": {},
   "source": [
    "* * *\n",
    "\n",
    "***\n",
    "\n",
    "*****\n",
    "\n",
    "- - -\n",
    "\n",
    "---------------------------------------"
   ]
  },
  {
   "cell_type": "markdown",
   "id": "fed27066",
   "metadata": {},
   "source": [
    "## 5.2.ELEMENTOS SPAN\n",
    "\n",
    "### A. ENLACES\n",
    "**Markdown** admite dos estilos de enlaces: *en línea y de referencia*.\n",
    "\n",
    "En ambos estilos, el texto del enlace está delimitado por ``[corchetes]``.\n",
    "\n",
    "- Para crear un enlace **en línea**, utilice un conjunto de paréntesis ``()`` regulares inmediatamente después del corchete ``[]`` de cierre del texto del enlace. Dentro de los paréntesis, ponga la **URL** a la que quiere que apunte el enlace, junto con un título opcional para el enlace, rodeado de comillas. Por ejemplo:"
   ]
  },
  {
   "cell_type": "markdown",
   "id": "6836dd01",
   "metadata": {},
   "source": [
    "Esto es [un ejemplo](https://rpp.pe/) enlace en línea.\n",
    "\n",
    "[Este enlace](https://rpp.pe/) no tiene atributo de título."
   ]
  },
  {
   "cell_type": "markdown",
   "id": "6ff07f91",
   "metadata": {},
   "source": [
    "Producirá:"
   ]
  },
  {
   "cell_type": "markdown",
   "id": "9e99ef96",
   "metadata": {},
   "source": [
    "<p>Esto es <a href=\"https://rpp.pe/\" title=\"Title\">\n",
    "un ejemplo</a> enlace en línea.</p>\n",
    "\n",
    "<p><a href=\"https://rpp.pe/\">Este enlace</a> no tienen el atributo título.</p>"
   ]
  },
  {
   "cell_type": "markdown",
   "id": "e22926a0",
   "metadata": {},
   "source": [
    "Si te refieres a un recurso local en el mismo servidor, puedes usar rutas relativas:"
   ]
  },
  {
   "cell_type": "markdown",
   "id": "7fd2501f",
   "metadata": {},
   "source": [
    "Consulta mi página [About](http://localhost:8888/files/Personal/FISS-UNI/clases/clase16/usandoMarkdown.pdf) para más detalles. "
   ]
  },
  {
   "cell_type": "markdown",
   "id": "e081b3f9",
   "metadata": {},
   "source": [
    "* Los enlaces de estilo **de referencia** utilizan un segundo conjunto de corchetes ``[]``, dentro de los cuales se coloca una etiqueta de su elección para identificar el enlace: "
   ]
  },
  {
   "cell_type": "markdown",
   "id": "ccb31a7d",
   "metadata": {},
   "source": [
    "Este es un enlace de estilo de referencia [un ejemplo][id]."
   ]
  },
  {
   "cell_type": "markdown",
   "id": "19041310",
   "metadata": {},
   "source": [
    "Opcionalmente, puede utilizar un espacio para separar los conjuntos de corchetes:"
   ]
  },
  {
   "cell_type": "markdown",
   "id": "4167346e",
   "metadata": {},
   "source": [
    "Esto es [un ejemplo] [id] enlace de estilo de referencia."
   ]
  },
  {
   "cell_type": "markdown",
   "id": "0b468c7e",
   "metadata": {},
   "source": [
    "A continuación, en cualquier parte del documento, defina la etiqueta de su enlace de la siguiente manera, en una línea por sí misma:"
   ]
  },
  {
   "cell_type": "markdown",
   "id": "2edca311",
   "metadata": {},
   "source": [
    "Este es un enlace de estilo de referencia [un ejemplo][id].\n",
    "Esto es [un ejemplo][id] enlace de estilo de referencia.\n",
    "\n",
    "[id]: https://rpp.pe/ \"Título opcional aquí\""
   ]
  },
  {
   "cell_type": "markdown",
   "id": "918e5960",
   "metadata": {},
   "source": [
    "Es decir:\n",
    "\n",
    "- Corchetes que contienen el identificador del enlace (opcionalmente sangrado desde el margen izquierdo utilizando hasta tres espacios);\n",
    "- seguido de dos puntos;\n",
    "- seguido de uno o varios espacios (o tabuladores);\n",
    "- seguido de la URL del enlace;\n",
    "- opcionalmente, seguido de un atributo de título para el enlace, encerrado entre comillas dobles o simples, o entre paréntesis.\n",
    "\n",
    "Las tres definiciones de enlace siguiente son equivalentes:"
   ]
  },
  {
   "cell_type": "markdown",
   "id": "01aa6eaa",
   "metadata": {},
   "source": [
    "Tu alma mater es la [UNI][foo]\n",
    "\n",
    "[foo]: https://www.uni.edu.pe/  \"Título opcional aquí\""
   ]
  },
  {
   "cell_type": "markdown",
   "id": "585328cd",
   "metadata": {},
   "source": [
    "Tu alma mater es la [UNI][foo]\n",
    "\n",
    "[foo]: https://www.uni.edu.pe/  'Título opcional aquí'"
   ]
  },
  {
   "cell_type": "markdown",
   "id": "e7358e8d",
   "metadata": {},
   "source": [
    "Tu alma mater es la [UNI][foo]\n",
    "\n",
    "[foo]: https://www.uni.edu.pe/  (Título opcional aquí)"
   ]
  },
  {
   "cell_type": "markdown",
   "id": "e7d49284",
   "metadata": {},
   "source": [
    "La URL del enlace puede, opcionalmente, ir rodeada de ``<>``:"
   ]
  },
  {
   "cell_type": "markdown",
   "id": "79351aa3",
   "metadata": {},
   "source": [
    "Tu alma mater es la [UNI][foo]\n",
    "\n",
    "[foo]: <https://www.uni.edu.pe/>  (Título opcional aquí)"
   ]
  },
  {
   "cell_type": "markdown",
   "id": "4271fb38",
   "metadata": {},
   "source": [
    "Puede poner el atributo del título en la línea siguiente y utilizar espacios adicionales o tabulaciones para el relleno, lo que suele quedar mejor con las URL más largas:"
   ]
  },
  {
   "cell_type": "markdown",
   "id": "5c2b6ed2",
   "metadata": {},
   "source": [
    "Enlace para una [URL][id] mas grande\n",
    "\n",
    "[id]: http://example.com/longish/path/to/resource/here\n",
    "    \"Optional Title Here\""
   ]
  },
  {
   "cell_type": "markdown",
   "id": "39959907",
   "metadata": {},
   "source": [
    "Las definiciones de enlaces sólo se utilizan para crear enlaces durante el procesamiento de **Markdown**, **y se eliminan del documento en la salida  HTML**.\n",
    "\n",
    "Los nombres de las definiciones de enlaces pueden contener letras, números, espacios y signos de puntuación, pero no distinguen entre mayúsculas y minúsculas. Por ejemplo, estos dos enlaces son equivalentes:"
   ]
  },
  {
   "cell_type": "markdown",
   "id": "1b7af4e1",
   "metadata": {},
   "source": [
    "[maestros de toda la vida][a]\n",
    "\n",
    "[maestros de toda la vida][A]\n",
    "\n",
    "[a]: https://maestros-toda-la-vida.pucp.edu.pe/"
   ]
  },
  {
   "cell_type": "markdown",
   "id": "9e44d101",
   "metadata": {},
   "source": [
    "**El atajo de nombre de enlace implícito le permite omitir el nombre del enlace**, en cuyo caso se utiliza el propio texto del enlace como nombre. Basta con utilizar un conjunto vacío de corchetes; por ejemplo, para enlazar la palabra \"Google\" con el sitio web google.com, basta con escribir y Y luego definir el enlace:"
   ]
  },
  {
   "cell_type": "markdown",
   "id": "956a16e8",
   "metadata": {},
   "source": [
    "[Google][]\n",
    "\n",
    "[Google]: https://www.google.com/"
   ]
  },
  {
   "cell_type": "markdown",
   "id": "69a9d200",
   "metadata": {},
   "source": [
    "Dado que los nombres de los enlaces pueden contener espacios, este atajo funciona incluso con varias palabras en el texto del enlace y luego define el enlace::"
   ]
  },
  {
   "cell_type": "markdown",
   "id": "e049b8f2",
   "metadata": {},
   "source": [
    "Visita [FIIS UNI][] para más información.\n",
    "\n",
    "[FIIS UNI]: http://www.fiis.uni.edu.pe/"
   ]
  },
  {
   "cell_type": "markdown",
   "id": "ec12dcc9",
   "metadata": {},
   "source": [
    "#### Recomendación:\n",
    "\n",
    "*Las definiciones de enlaces pueden colocarse en cualquier lugar del documento **Markdown**. Yo suelo ponerlas inmediatamente después de cada párrafo en el que se utilizan, pero si quieres, puedes ponerlas todas al final del documento, como si fueran notas a pie de página.*"
   ]
  },
  {
   "cell_type": "markdown",
   "id": "e945c252",
   "metadata": {},
   "source": [
    "Recibo 10 veces más tráfico desde [Google][1] que desde [Yahoo][2] o [MSN][3].\n",
    "\n",
    "\n",
    "\n",
    "  [1]: http://google.com/ \"Google\"\n",
    "  [2]: http://search.yahoo.com/ \"Yahoo Search\"\n",
    "  [3]: http://search.msn.com/ \"MSN Search\""
   ]
  },
  {
   "cell_type": "markdown",
   "id": "7cbfb236",
   "metadata": {},
   "source": [
    "Utilizando el atajo del nombre del enlace implícito, podrías escribir en su lugar:"
   ]
  },
  {
   "cell_type": "markdown",
   "id": "0df7016b",
   "metadata": {},
   "source": [
    "Recibo 10 veces más tráfico de [Google][] que de [Yahoo][] o [MSN][].\n",
    "\n",
    "\n",
    "\n",
    "\n",
    "  [google]: http://google.com/ \"Google\"\n",
    "  [yahoo]: http://search.yahoo.com/ \"Yahoo Search\"\n",
    "  [msn]: http://search.msn.com/ \"MSN Search\""
   ]
  },
  {
   "cell_type": "markdown",
   "id": "addcdaaf",
   "metadata": {},
   "source": [
    "Ambos ejemplos anteriores producirán la siguiente salida HTML:"
   ]
  },
  {
   "cell_type": "markdown",
   "id": "8f774d65",
   "metadata": {},
   "source": [
    "<p>Obtengo 10 veces más tráfico desde <a href=\"http://google.com/\"\n",
    "title=\"Google\">Google</a> que desde\n",
    "<a href=\"http://search.yahoo.com/\" title=\"Yahoo Search\">Yahoo</a>\n",
    "o <a href=\"http://search.msn.com/\" title=\"MSN Search\">MSN</a>.</p>"
   ]
  },
  {
   "cell_type": "markdown",
   "id": "e36a4c46",
   "metadata": {},
   "source": [
    "Para comparar, aquí está el mismo párrafo escrito usando el estilo de enlace en línea de **Markdown**:"
   ]
  },
  {
   "cell_type": "markdown",
   "id": "55cdfe6c",
   "metadata": {},
   "source": [
    "Obtengo 10 veces más tráfico desde [Google](http://google.com/ \"Google\")\n",
    "que desde [Yahoo](http://search.yahoo.com/ \"Yahoo Search\") o\n",
    "[MSN](http://search.msn.com/ \"MSN Search\")."
   ]
  },
  {
   "cell_type": "markdown",
   "id": "2ca05c7f",
   "metadata": {},
   "source": [
    "**El objetivo de los enlaces de referencia no es que sean más fáciles de escribir**. \n",
    "\n",
    "**La cuestión es que con los enlaces de estilo de referencia**, la fuente del documento es mucho más legible. \n",
    "\n",
    "Compare los ejemplos anteriores: con los enlaces de **estilo de referencia**, *el párrafo en sí sólo tiene 81 caracteres*; con los enlaces de **estilo en línea**, *tiene 176 caracteres*; y como **HTML crudo**, *tiene 234 caracteres*. En el HTML crudo, hay más marcas que texto.\n",
    "\n",
    "**Con los enlaces de estilo de referencia de Markdown**, un documento fuente se asemeja mucho más al resultado final, tal y como se representa en un navegador. Al permitirte mover los metadatos relacionados con el marcado fuera del párrafo, puedes añadir enlaces sin interrumpir el flujo narrativo de tu prosa."
   ]
  },
  {
   "cell_type": "markdown",
   "id": "171973e4",
   "metadata": {},
   "source": [
    "### B. Énfasis\n",
    "**Markdown** trata los asteriscos ``*`` y los guiones bajos ``_`` como indicadores de énfasis. \n",
    "\n",
    "- El texto que contenga un ``*`` o un ``_`` se envolverá con una etiqueta ``HTML <em>``; \n",
    "\n",
    "- los dobles ``*`` o ``_`` se envolverán con una etiqueta ``HTML <strong>``. \n",
    "\n",
    "Por ejemplo, esta entrada:"
   ]
  },
  {
   "cell_type": "markdown",
   "id": "52d17b14",
   "metadata": {},
   "source": [
    "*asteriscos simples*\n",
    "\n",
    "_subrayado simple_\n",
    "\n",
    "**dos asteriscos**\n",
    "\n",
    "__subrayado doble__"
   ]
  },
  {
   "cell_type": "markdown",
   "id": "128cd9e8",
   "metadata": {},
   "source": [
    "en **HTML** se veria así"
   ]
  },
  {
   "cell_type": "markdown",
   "id": "22878243",
   "metadata": {},
   "source": [
    "<em>asteriscos simples</em>\n",
    "\n",
    "<em>subrayado simple</em>\n",
    "\n",
    "<strong>dos asteriscos</strong>\n",
    "\n",
    "<strong>subrayado doble</strong>"
   ]
  },
  {
   "cell_type": "markdown",
   "id": "fdaa9c18",
   "metadata": {},
   "source": [
    "Puede utilizar el estilo que prefiera; la única restricción es que debe utilizarse el mismo carácter para abrir y cerrar un espacio de énfasis.\n",
    "\n",
    "El énfasis puede utilizarse en medio de una palabra:"
   ]
  },
  {
   "cell_type": "markdown",
   "id": "1fbda528",
   "metadata": {},
   "source": [
    "**esto** esta muy *divertido* !!!"
   ]
  },
  {
   "cell_type": "markdown",
   "id": "e3cfaba7",
   "metadata": {},
   "source": [
    "Para producir un asterisco o un guión bajo literal en una posición en la que, de otro modo, se utilizaría como delimitador de énfasis, puedes escapar de la barra invertida:"
   ]
  },
  {
   "cell_type": "markdown",
   "id": "1f86c2e0",
   "metadata": {},
   "source": [
    "\\*Este texto está rodeado de asteriscos literales\\*"
   ]
  },
  {
   "cell_type": "markdown",
   "id": "f8ed7058",
   "metadata": {},
   "source": [
    "### C. CÓDIGO\n",
    "Para indicar un lapso de código, envuélvalo con comillas `` ` ``. A diferencia de un bloque de código preformateado, un tramo de código indica código dentro de un párrafo normal. Por ejemplo:"
   ]
  },
  {
   "cell_type": "markdown",
   "id": "a9cdde4e",
   "metadata": {},
   "source": [
    "Utilice la función `printf()`."
   ]
  },
  {
   "cell_type": "markdown",
   "id": "5edb0b95",
   "metadata": {},
   "source": [
    "producirá:"
   ]
  },
  {
   "cell_type": "markdown",
   "id": "600d129d",
   "metadata": {},
   "source": [
    "<p>Utilice la función <code>printf()</code> </p>"
   ]
  },
  {
   "cell_type": "markdown",
   "id": "56b02d38",
   "metadata": {},
   "source": [
    "Para incluir un carácter literal de palanca de retroceso dentro de un tramo de código, puede utilizar varias palancas de retroceso como delimitadores de apertura y cierre:"
   ]
  },
  {
   "cell_type": "markdown",
   "id": "9aaef11a",
   "metadata": {},
   "source": [
    "``Aquí hay una marca literal (`).``"
   ]
  },
  {
   "cell_type": "markdown",
   "id": "47ea7762",
   "metadata": {},
   "source": [
    "que producirá lo siguiente:"
   ]
  },
  {
   "cell_type": "markdown",
   "id": "ea6823e7",
   "metadata": {},
   "source": [
    "<p><code>Aquí hay una marca literal (`).</code></p>"
   ]
  },
  {
   "cell_type": "markdown",
   "id": "4885d7b7",
   "metadata": {},
   "source": [
    "Los delimitadores de las marcas que rodean un tramo de código pueden incluir espacios: uno después de la apertura y otro antes del cierre. Esto le permite colocar caracteres literales de palanca de retroceso al principio o al final de un tramo de código:"
   ]
  },
  {
   "cell_type": "markdown",
   "id": "b7c52e34",
   "metadata": {},
   "source": [
    "Una sola marca en un intervalo de código: `` ``\n",
    "\n",
    "Una cadena de caracteres delimitada por una marca en un código: `` `foo` ``"
   ]
  },
  {
   "cell_type": "markdown",
   "id": "861a6bfc",
   "metadata": {},
   "source": [
    "producirá:"
   ]
  },
  {
   "cell_type": "markdown",
   "id": "213e8c1f",
   "metadata": {},
   "source": [
    "<p>Una sola marca en un intervalo de código: <code>`</code></p>\n",
    "\n",
    "<p>Una cadena de caracteres delimitada por una marca en un código: <code>`foo`</code></p>"
   ]
  },
  {
   "cell_type": "markdown",
   "id": "9563259e",
   "metadata": {},
   "source": [
    "### D. IMÁGENES\n",
    "\n",
    "Hay que reconocer que es bastante difícil idear una sintaxis \"natural\" para colocar imágenes en un formato de documento de texto plano.\n",
    "\n",
    "**Markdown** utiliza una sintaxis de imágenes que pretende parecerse a la sintaxis de los enlaces, permitiendo dos estilos: en línea y de referencia.\n",
    "\n",
    "La sintaxis de las imágenes en línea tiene el siguiente aspecto"
   ]
  },
  {
   "cell_type": "markdown",
   "id": "fb122a99",
   "metadata": {},
   "source": [
    "![Texto alternativo](uni-logo-color.png)"
   ]
  },
  {
   "cell_type": "markdown",
   "id": "72e9e458",
   "metadata": {},
   "source": [
    "![Texto alternativo](uni-logo-color.png \"Título opcional\")"
   ]
  },
  {
   "cell_type": "markdown",
   "id": "f2c6b425",
   "metadata": {},
   "source": [
    "Eso es:\n",
    "\n",
    "- ¡Un signo de exclamación: !\n",
    "- seguido de un conjunto de corchetes, que contiene el texto del atributo alt de la imagen;\n",
    "- seguido de un conjunto de paréntesis, que contiene la URL o la ruta de acceso a la imagen, y un atributo de título opcional encerrado entre comillas dobles o simples.\n",
    "\n",
    "La sintaxis de la imagen de referencia tiene este aspecto:"
   ]
  },
  {
   "cell_type": "markdown",
   "id": "29b7a0d0",
   "metadata": {},
   "source": [
    "![Texto Alt][id]"
   ]
  },
  {
   "cell_type": "markdown",
   "id": "a19706d3",
   "metadata": {},
   "source": [
    "Donde \"id\" es el nombre de una referencia de imagen definida. Las referencias de imagen se definen utilizando una sintaxis idéntica a la de las referencias de enlace:"
   ]
  },
  {
   "cell_type": "markdown",
   "id": "fbfab757",
   "metadata": {},
   "source": [
    "[id]: url/to/image \"Atributo de título opcional\""
   ]
  },
  {
   "cell_type": "markdown",
   "id": "9a19ea8b",
   "metadata": {},
   "source": [
    "Ejemplo:"
   ]
  },
  {
   "cell_type": "markdown",
   "id": "5d1b0555",
   "metadata": {},
   "source": [
    "![Vamos terminando][id]\n",
    "\n",
    "[id]: https://neliosoftware.com/es/wp-content/uploads/sites/3/2018/07/aziz-acharki-549137-unsplash-1200x775.jpg \n",
    "\"El curso de python va terminando\""
   ]
  },
  {
   "cell_type": "markdown",
   "id": "ad3da2d5",
   "metadata": {},
   "source": [
    "En el momento de escribir este artículo, **Markdown** no tiene una sintaxis para especificar las dimensiones de una imagen; si esto es importante para usted, puede utilizar simplemente las etiquetas HTML <[img][]>.\n",
    "\n",
    "[img]: https://www.w3schools.com/html/html_images.asp"
   ]
  },
  {
   "cell_type": "markdown",
   "id": "0edc3ee4",
   "metadata": {},
   "source": [
    "<center><img src=\"https://neliosoftware.com/es/wp-content/uploads/sites/3/2018/07/aziz-acharki-549137-unsplash-1200x775.jpg\"  alt=\"ups\" width=\"500\" height=\"100\"></center>"
   ]
  },
  {
   "cell_type": "markdown",
   "id": "39ae8e21",
   "metadata": {},
   "source": [
    "### 5.3. Adicionales\n",
    "\n",
    "#### A. ENLACES AUTOMÁTICOS\n",
    "\n",
    "**Markdown** admite un estilo abreviado para crear enlaces \"automáticos\" para *URLs* y *direcciones de correo electrónico*: basta con rodear la URL o la dirección de correo electrónico con ``<>``. \n",
    "\n",
    "Esto significa que si quieres mostrar el texto real de una URL o una dirección de correo electrónico, y que además sea un enlace en el que se pueda hacer clic, puedes hacerlo:"
   ]
  },
  {
   "cell_type": "markdown",
   "id": "4ba1d81e",
   "metadata": {},
   "source": [
    "Markdown: <http://example.com/>\n",
    "\n",
    "\n",
    "HTML: <a href=\"http://example.com/\">http://example.com/</a>"
   ]
  },
  {
   "cell_type": "markdown",
   "id": "51734d7f",
   "metadata": {},
   "source": [
    "Los enlaces automáticos para las direcciones de correo electrónico funcionan de manera similar, excepto que Markdown también realizará un poco de codificación aleatoria de entidades decimales y hexadecimales para ayudar a ocultar su dirección de los spambots recolectores de direcciones. Por ejemplo, Markdown convertirá esto:"
   ]
  },
  {
   "cell_type": "markdown",
   "id": "538cb201",
   "metadata": {},
   "source": [
    "Markdown: <address@example.com>\n",
    "\n",
    "\n",
    "<p>HTML: <a href=\"&#x6D;&#x61;&#x69;&#x6C;&#116;&#x6F;:&#x61;&#100;&#100;&#114;&#101;&#x73;&#x73;&#64;e&#x78;&#x61;m&#112;&#x6C;&#101;&#46;&#99;o&#109;\">&#x61;&#100;&#100;&#114;&#101;&#x73;&#x73;&#64;e&#x78;&#x61;m&#112;&#x6C;&#101;&#46;&#99;o&#109;</a></p>"
   ]
  },
  {
   "cell_type": "markdown",
   "id": "911d423f",
   "metadata": {},
   "source": [
    "Este tipo de truco de codificación de entidades engañará a muchos, si no a la mayoría, de los bots recolectores de direcciones, pero definitivamente no los engañará a todos. Es mejor que nada, pero una dirección publicada de esta manera probablemente empezará a recibir spam"
   ]
  },
  {
   "cell_type": "markdown",
   "id": "7b1343e1",
   "metadata": {},
   "source": [
    "### B. BACKSLASH ESCAPES\n",
    "**Markdown** permite utilizar barras invertidas para generar caracteres literales que, de otro modo, tendrían un significado especial en la sintaxis de formato de Markdown. \n",
    "\n",
    "Por ejemplo, si desea rodear una palabra con asteriscos literales (en lugar de una etiqueta HTML ``<em>``), puede utilizar barras invertidas antes de los asteriscos, de la siguiente manera:"
   ]
  },
  {
   "cell_type": "markdown",
   "id": "ff09d982",
   "metadata": {},
   "source": [
    "\\*asteriscos literales\\*"
   ]
  },
  {
   "cell_type": "markdown",
   "id": "d03347e4",
   "metadata": {},
   "source": [
    "Markdown proporciona escapes de barra invertida para los siguientes caracteres:\n",
    "\n",
    "\\\\ barra invertida\n",
    "\n",
    "\\` barra invertida  \n",
    "\n",
    "\\* asterisco\n",
    "\n",
    "\\_ guión bajo\n",
    "\n",
    "\\{\\} llaves rizadas\n",
    "\n",
    "\\[\\] corchetes\n",
    "\n",
    "\\(\\) paréntesis\n",
    "\n",
    "\\# signo de almohadilla\n",
    "\n",
    "\\+ signo más\n",
    "\n",
    "\\- signo menos (guión)\n",
    "\n",
    "\\. punto\n",
    "\n",
    "\\! signo de exclamación"
   ]
  },
  {
   "cell_type": "markdown",
   "id": "a92bac5d",
   "metadata": {},
   "source": [
    "### C. Dingus\n",
    "También es útil simplemente probar Markdown; el [Dingus][] (del creador de Markdown) es una aplicación web que le permite escribir su propio texto con formato Markdown y traducirlo a XHTML.\n",
    "\n",
    "[Dingus]: https://daringfireball.net/projects/markdown/dingus"
   ]
  },
  {
   "cell_type": "markdown",
   "id": "80e90db6",
   "metadata": {},
   "source": [
    "### D. Tablas\n",
    "Para añadir una tabla, utilice tres o más guiones ``---`` para crear la cabecera de cada columna, y utilice tubos ``|`` para separar cada columna. Por razones de compatibilidad, también debe añadir un tubo en cada extremo de la fila."
   ]
  },
  {
   "cell_type": "markdown",
   "id": "166e6985",
   "metadata": {},
   "source": [
    "| Col1      | Col2 | Col3 |\n",
    "| --- | --- | ------|\n",
    "| xxx      | aaa       |  hola|\n",
    "| yyy   | bbb        | 345|"
   ]
  },
  {
   "cell_type": "markdown",
   "id": "2cb701a5",
   "metadata": {},
   "source": [
    "Puede alinear el texto de las columnas a la izquierda, a la derecha o al centro añadiendo dos puntos (:) a la izquierda, a la derecha o a ambos lados de los guiones dentro de la fila de la cabecera."
   ]
  },
  {
   "cell_type": "markdown",
   "id": "3a04d192",
   "metadata": {},
   "source": [
    "| Col1           | Col2       | col3  |\n",
    "| :---           |  :---:     |   ---:|\n",
    "| yyy            | aaaa        | mmm   |\n",
    "| yyyy            | bbb        | zzzz  |"
   ]
  },
  {
   "cell_type": "markdown",
   "id": "7539aa7a",
   "metadata": {},
   "source": [
    "| Syntax      | Description | Test Text     |\n",
    "| :---        |    :----:   |          ---: |\n",
    "| Header      | Title       | Here's this   |\n",
    "| Paragraph   | Text        | And more      |"
   ]
  },
  {
   "cell_type": "markdown",
   "id": "da8c32e8",
   "metadata": {},
   "source": [
    "| Syntax      | Description | Test Text     |\n",
    "| :---        |    :----:   |          ---: |\n",
    "| Header ddddddd      | Title       | Here's this   |\n",
    "| Paragraph   | Text        | And more dddddddddddddddd      |"
   ]
  },
  {
   "cell_type": "markdown",
   "id": "6f6e888f",
   "metadata": {},
   "source": [
    "Puede formatear el texto dentro de las tablas. Por ejemplo, puede añadir enlaces, código (sólo palabras o frases con puntos suspensivos `` ` ``, no bloques de código) y énfasis.\n",
    "\n",
    "No puede añadir títulos, comillas, listas, reglas horizontales, imágenes o etiquetas HTML."
   ]
  },
  {
   "cell_type": "markdown",
   "id": "2c298709",
   "metadata": {},
   "source": [
    "### E. Bloques de código con sangría\n",
    "\n",
    "La sintaxis básica de **Markdown** permite crear bloques de código con una sangría de cuatro espacios o un tabulador.\n",
    "\n",
    "Si te resulta incómodo, prueba a utilizar bloques de código delimitados. Dependiendo de tu procesador o editor de Markdown, utilizarás tres marcas de retroceso `` ``` `` o tres tildes ``~~~`` en las líneas anteriores y posteriores al bloque de código. ¿Y lo mejor? No tienes que aplicar sangría a ninguna línea."
   ]
  },
  {
   "cell_type": "markdown",
   "id": "40f82e15",
   "metadata": {},
   "source": [
    "```\n",
    "{\n",
    "  \"firstName\": \"John\",\n",
    "  \"lastName\": \"Smith\",\n",
    "  \"age\": 25\n",
    "}\n",
    "```"
   ]
  },
  {
   "cell_type": "markdown",
   "id": "4f0b5fec",
   "metadata": {},
   "source": [
    "Muchos procesadores de Markdown admiten el resaltado de sintaxis para los bloques de código cercados. Esta función le permite añadir un resaltado de color para cualquier idioma en el que se haya escrito el código. Para añadir el resaltado de sintaxis, especifique un idioma junto a los signos de puntuación antes del bloque de código acotado."
   ]
  },
  {
   "cell_type": "markdown",
   "id": "d928386a",
   "metadata": {},
   "source": [
    "```json\n",
    "{\n",
    "  \"firstName\": \"John\",\n",
    "  \"lastName\": \"Smith\",\n",
    "  \"age\": 25\n",
    "}\n",
    "```"
   ]
  },
  {
   "cell_type": "markdown",
   "id": "ed2f9587",
   "metadata": {},
   "source": [
    "~~~json\n",
    "{\n",
    "  \"firstName\": \"John\",\n",
    "  \"lastName\": \"Smith\",\n",
    "  \"age\": 25\n",
    "}\n",
    "~~~"
   ]
  },
  {
   "cell_type": "markdown",
   "id": "c6106619",
   "metadata": {},
   "source": [
    "~~~python\n",
    "{\n",
    "  \"firstName\": \"John\",\n",
    "  \"lastName\": \"Smith\",\n",
    "  \"age\": 25\n",
    "}\n",
    "~~~"
   ]
  },
  {
   "cell_type": "markdown",
   "id": "9a83f342",
   "metadata": {},
   "source": [
    "### F. Listas de tareas\n",
    "Las listas de tareas (también denominadas listas de control) permiten crear una lista de elementos con casillas de verificación. En las aplicaciones de Markdown que admiten listas de tareas, las casillas de verificación aparecerán junto al contenido. Para crear una lista de tareas, añada guiones (-) y corchetes con un espacio ([ ]) delante de los elementos de la lista de tareas. Para seleccionar una casilla de verificación, añada una x entre los corchetes ([x])."
   ]
  },
  {
   "cell_type": "markdown",
   "id": "826d892c",
   "metadata": {},
   "source": [
    "- [x] Write the press release\n",
    "- [ ] Update the website\n",
    "- [ ] Contact the media"
   ]
  },
  {
   "cell_type": "markdown",
   "id": "7c95abb9",
   "metadata": {},
   "source": [
    "- [x] Write the press release\n",
    "- [x] Update the website\n",
    "- [ ] Contact the media"
   ]
  },
  {
   "cell_type": "markdown",
   "id": "8af4dabe",
   "metadata": {},
   "source": [
    "- [x] Write the press release\n",
    "- [x] Update the website\n",
    "- [x] Contact the media"
   ]
  },
  {
   "cell_type": "markdown",
   "id": "738ec984",
   "metadata": {},
   "source": [
    "### G. Tachado\n",
    "Puede tachar palabras poniendo una línea horizontal en el centro de las mismas. El resultado es el siguiente. Esta función le permite indicar que ciertas palabras son un error que no debe incluirse en el documento. Para tachar palabras, utilice dos símbolos de tilde ``~~`` antes y después de las palabras."
   ]
  },
  {
   "cell_type": "markdown",
   "id": "e1758257",
   "metadata": {},
   "source": [
    "~~The world is flat.~~ We now know that the world is round."
   ]
  },
  {
   "cell_type": "markdown",
   "id": "32165515",
   "metadata": {},
   "source": [
    "### G.  Usando HTML"
   ]
  },
  {
   "cell_type": "markdown",
   "id": "ff2e53b7",
   "metadata": {},
   "source": [
    "X<sup>2</sup>"
   ]
  },
  {
   "cell_type": "markdown",
   "id": "5e24c6f9",
   "metadata": {},
   "source": [
    "H<sub>2</sub>O"
   ]
  },
  {
   "cell_type": "markdown",
   "id": "57e4d01f",
   "metadata": {},
   "source": [
    "HTML:  Tengo que destacar estas <mark>palabras muy importantes</mark>."
   ]
  },
  {
   "cell_type": "markdown",
   "id": "5677a310",
   "metadata": {},
   "source": [
    "## 5.4 Matemática"
   ]
  },
  {
   "cell_type": "markdown",
   "id": "ec8e3b4a",
   "metadata": {},
   "source": [
    "$x^2+y^2+z^2=r^2$\n",
    "\n",
    "$$x^2+y^2+z^2=r^2$$\n",
    "\n",
    "\\begin{equation}\n",
    "x^2+y^2+z^2=r^2  \n",
    "\\end{equation}"
   ]
  },
  {
   "cell_type": "markdown",
   "id": "aabd2387",
   "metadata": {},
   "source": [
    "\\begin{eqnarray}\n",
    "\\frac{\\partial f(x,y)}{\\partial y} &=& \\frac{\\partial \\int_0^x g(x,y)dx}{\\partial y}\\\\\n",
    "x^2+y^2+z^2&=&r^2\n",
    "\\end{eqnarray}"
   ]
  },
  {
   "cell_type": "markdown",
   "id": "7b3b1765",
   "metadata": {},
   "source": [
    "$$\\cos (2\\theta) = \\cos^2 \\theta - \\sin^2 \\theta$$"
   ]
  },
  {
   "cell_type": "markdown",
   "id": "e3ef73d2",
   "metadata": {},
   "source": [
    "$$\\lim\\limits_{x \\to \\infty} \\exp(-x) = 0$$"
   ]
  },
  {
   "cell_type": "markdown",
   "id": "cfbdcfa6",
   "metadata": {},
   "source": [
    "$$\\alpha,  \\beta,  \\gamma, \\Gamma, \\pi, \\Pi, \\phi, \\varphi, \\mu, \\Phi$$"
   ]
  },
  {
   "cell_type": "markdown",
   "id": "c2a71861",
   "metadata": {},
   "source": [
    "$$\\forall x \\in X, \\quad \\exists y \\leq \\epsilon$$"
   ]
  },
  {
   "cell_type": "markdown",
   "id": "8e54f601",
   "metadata": {},
   "source": [
    "$$a \\bmod b$$"
   ]
  },
  {
   "cell_type": "markdown",
   "id": "1d8c8ba8",
   "metadata": {},
   "source": [
    "$$x \\equiv a \\pmod{b}$$"
   ]
  },
  {
   "cell_type": "markdown",
   "id": "27a0e45c",
   "metadata": {},
   "source": [
    "$$k_{n+1} = n^2 + k_n^2 - k_{n-1}$$"
   ]
  },
  {
   "cell_type": "markdown",
   "id": "7d2f798a",
   "metadata": {},
   "source": [
    "$$n^{22}$$"
   ]
  },
  {
   "cell_type": "markdown",
   "id": "dc304d43",
   "metadata": {},
   "source": [
    "$$\\frac{n!}{k!(n-k)!} = \\binom{n}{k}$$"
   ]
  },
  {
   "cell_type": "markdown",
   "id": "98ab4309",
   "metadata": {},
   "source": [
    "$$\\frac{\\frac{1}{x}+\\frac{1}{y}}{y-z}$$"
   ]
  },
  {
   "cell_type": "markdown",
   "id": "cb363629",
   "metadata": {},
   "source": [
    "\\begin{equation}\n",
    "  x = a_0 + \\cfrac{1}{a_1 \n",
    "          + \\cfrac{1}{a_2 \n",
    "          + \\cfrac{1}{a_3 + \\cfrac{1}{a_4} } } }\n",
    "\\end{equation}"
   ]
  },
  {
   "cell_type": "markdown",
   "id": "70430ea8",
   "metadata": {},
   "source": [
    "\\begin{equation}\n",
    "\\frac{\n",
    "    \\begin{array}[b]{r}\n",
    "      \\left( x_1 x_2 \\right)\\\\\n",
    "      \\times \\left( x'_1 x'_2 \\right)\n",
    "    \\end{array}\n",
    "  }{\n",
    "    \\left( y_1y_2y_3y_4 \\right)\n",
    "  }\n",
    "\\end{equation}"
   ]
  },
  {
   "cell_type": "markdown",
   "id": "4424eb9b",
   "metadata": {},
   "source": [
    "$$\\sqrt[n]{1+x+x^2+x^3+\\dots+x^n}$$"
   ]
  },
  {
   "cell_type": "markdown",
   "id": "d0ece8be",
   "metadata": {},
   "source": [
    "$$\\bigoplus,\\iiiint,\\oint,\\idotsint$$"
   ]
  },
  {
   "cell_type": "markdown",
   "id": "63627fdc",
   "metadata": {},
   "source": [
    "$$( \\big( \\Big( \\bigg( \\Bigg($$"
   ]
  },
  {
   "cell_type": "markdown",
   "id": "9d5463f0",
   "metadata": {},
   "source": [
    "\n",
    "$$\n",
    " \\begin{matrix}\n",
    "  a & b & c \\\\\n",
    "  d & e & f \\\\\n",
    "  g & h & i\n",
    " \\end{matrix}\n",
    "$$"
   ]
  },
  {
   "cell_type": "markdown",
   "id": "8ad517f6",
   "metadata": {},
   "source": [
    "$$\n",
    "A_{m,n} = \n",
    " \\begin{pmatrix}\n",
    "  a_{1,1} & a_{1,2} & \\cdots & a_{1,n} \\\\\n",
    "  a_{2,1} & a_{2,2} & \\cdots & a_{2,n} \\\\\n",
    "  \\vdots  & \\vdots  & \\ddots & \\vdots  \\\\\n",
    "  a_{m,1} & a_{m,2} & \\cdots & a_{m,n} \n",
    " \\end{pmatrix}\n",
    " $$"
   ]
  },
  {
   "cell_type": "markdown",
   "id": "5ac9cdab",
   "metadata": {},
   "source": [
    "$$\\int y\\, \\mathrm{d}x$$"
   ]
  },
  {
   "cell_type": "markdown",
   "id": "5d0a0d76",
   "metadata": {},
   "source": [
    "$$\\mathbb{R},\\mathbb{R}^2,\\mathbb{R}^3,\\mathbb{R}^4,\\mathbb{R}^5,\\cdots,\\mathbb{R}^n,\\cdots\\mathbb{R}^{\\mathbb{N}},\\cdots\\mathbb{R}^{\\mathbb{R}}$$"
   ]
  }
 ],
 "metadata": {
  "kernelspec": {
   "display_name": "Python 3 (ipykernel)",
   "language": "python",
   "name": "python3"
  },
  "language_info": {
   "codemirror_mode": {
    "name": "ipython",
    "version": 3
   },
   "file_extension": ".py",
   "mimetype": "text/x-python",
   "name": "python",
   "nbconvert_exporter": "python",
   "pygments_lexer": "ipython3",
   "version": "3.8.11"
  }
 },
 "nbformat": 4,
 "nbformat_minor": 5
}
